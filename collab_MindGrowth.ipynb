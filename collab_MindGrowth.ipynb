{
  "nbformat": 4,
  "nbformat_minor": 0,
  "metadata": {
    "colab": {
      "provenance": [],
      "authorship_tag": "ABX9TyPTZG5indhX4q6Fdks0xtta",
      "include_colab_link": true
    },
    "kernelspec": {
      "name": "python3",
      "display_name": "Python 3"
    },
    "language_info": {
      "name": "python"
    }
  },
  "cells": [
    {
      "cell_type": "markdown",
      "metadata": {
        "id": "view-in-github",
        "colab_type": "text"
      },
      "source": [
        "<a href=\"https://colab.research.google.com/github/farhakhans/mindgrowth/blob/main/collab_MindGrowth.ipynb\" target=\"_parent\"><img src=\"https://colab.research.google.com/assets/colab-badge.svg\" alt=\"Open In Colab\"/></a>"
      ]
    },
    {
      "cell_type": "code",
      "execution_count": 1,
      "metadata": {
        "colab": {
          "base_uri": "https://localhost:8080/",
          "height": 268
        },
        "id": "LZNhd9-3okRR",
        "outputId": "784d37f0-a3d0-490e-ccb9-c0827259d607"
      },
      "outputs": [
        {
          "output_type": "stream",
          "name": "stdout",
          "text": [
            "\n",
            "✨ Growth is an exciting journey! Keep soaring higher! 🚀\n",
            "\n",
            "🔹 Designed with Passion & Creativity by Farhana Khan 🌸🌺\n"
          ]
        }
      ],
      "source": [
        "import time\n",
        "import random\n",
        "import matplotlib.pyplot as plt\n",
        "import numpy as np\n",
        "from IPython.display import display, clear_output\n",
        "\n",
        "# Quotes List\n",
        "quotes = [\n",
        "    \"🌟 The future belongs to those who believe in the beauty of their dreams. —Eleanor Roosevelt\",\n",
        "    \"🔥 Believe in yourself and all that you are. Know that there is something inside you that is greater than any obstacle. —Christian D. Larson\",\n",
        "    \"🚀 Do what you can, with what you have, where you are. —Theodore Roosevelt\",\n",
        "    \"🌈 Start where you are. Use what you have. Do what you can. —Arthur Ashe\"\n",
        "]\n",
        "\n",
        "# Display Title\n",
        "clear_output(wait=True)\n",
        "print(\"\\n🚀 Mindset Revolution Hub 🌟\")\n",
        "print(\"-\" * 40)\n",
        "print(\"🌱✨ Welcome to a New Era of Self-Growth! ✨🌱\")\n",
        "print(\"-\" * 40)\n",
        "time.sleep(1)\n",
        "\n",
        "# Show a Random Quote\n",
        "print(\"\\n🎭 Daily Boost: Your Inspirational Quote 💡\")\n",
        "print(random.choice(quotes))\n",
        "time.sleep(2)\n",
        "\n",
        "# Ask for Challenge Input\n",
        "challenge = input(\"\\n⚡ Take on Today's Challenge: What’s one challenge you want to conquer today? 💪\\n👉 \")\n",
        "if challenge:\n",
        "    print(f\"\\n🔥 Stay strong! Facing: {challenge}. Keep pushing forward! 🚀\")\n",
        "else:\n",
        "    print(\"\\n💡 Share your challenge and let's overcome it together!\")\n",
        "\n",
        "time.sleep(2)\n",
        "\n",
        "# Learning Reflection\n",
        "reflection = input(\"\\n💡 Reflect & Evolve: What lessons did you learn today? 📝\\n👉 \")\n",
        "if reflection:\n",
        "    print(f\"\\n🌱 Insightful! Your reflection: {reflection}\")\n",
        "else:\n",
        "    print(\"\\n✍️ Reflecting is key to growth! Take a moment to pen down your insights.\")\n",
        "\n",
        "time.sleep(2)\n",
        "\n",
        "# Achievements Celebration (With Animation)\n",
        "achievement = input(\"\\n🏅 Celebrate Your Victories: What’s something awesome you accomplished? 🎉\\n👉 \")\n",
        "if achievement:\n",
        "    print(\"\\n🎇 Fantastic! You achieved:\", achievement)\n",
        "\n",
        "    # Animated Celebration using Matplotlib\n",
        "    for i in range(10):\n",
        "        clear_output(wait=True)\n",
        "        fig, ax = plt.subplots(figsize=(5, 3))\n",
        "        ax.set_xlim(-1, 1)\n",
        "        ax.set_ylim(-1, 1)\n",
        "        ax.set_xticks([])\n",
        "        ax.set_yticks([])\n",
        "        ax.set_title(\"🎉 Celebration! 🎉\", fontsize=16, color=random.choice([\"red\", \"blue\", \"green\"]))\n",
        "\n",
        "        # Create Random Stars (Confetti Effect)\n",
        "        stars_x = np.random.uniform(-1, 1, 10)\n",
        "        stars_y = np.random.uniform(-1, 1, 10)\n",
        "        ax.scatter(stars_x, stars_y, c=np.random.rand(10, 3), s=200, alpha=0.8)\n",
        "\n",
        "        display(fig)\n",
        "        plt.close(fig)\n",
        "        time.sleep(0.5)\n",
        "\n",
        "    print(\"\\n🏆 Every milestone matters! Keep going! 🚀\")\n",
        "else:\n",
        "    print(\"\\n🏆 Every milestone matters! Share your triumphs.\")\n",
        "\n",
        "time.sleep(2)\n",
        "\n",
        "# Gratitude Section\n",
        "gratitude = input(\"\\n💖 Gratitude Corner: What are you grateful for today? 🌻\\n👉 \")\n",
        "if gratitude:\n",
        "    print(f\"\\n🙏 Gratitude noted: {gratitude}. Keep appreciating the little things! 😊\")\n",
        "else:\n",
        "    print(\"\\n💛 Taking a moment to be thankful creates a positive mindset.\")\n",
        "\n",
        "time.sleep(2)\n",
        "\n",
        "# Animated Ending Message\n",
        "for i in range(5):\n",
        "    clear_output(wait=True)\n",
        "    fig, ax = plt.subplots(figsize=(5, 3))\n",
        "    ax.set_xlim(-1, 1)\n",
        "    ax.set_ylim(-1, 1)\n",
        "    ax.set_xticks([])\n",
        "    ax.set_yticks([])\n",
        "    ax.text(0, 0, \"🚀 Keep Soaring Higher! 🚀\", fontsize=14, ha=\"center\", va=\"center\", color=random.choice([\"red\", \"blue\", \"green\"]))\n",
        "    display(fig)\n",
        "    plt.close(fig)\n",
        "    time.sleep(0.5)\n",
        "\n",
        "clear_output(wait=True)\n",
        "print(\"\\n✨ Growth is an exciting journey! Keep soaring higher! 🚀\")\n",
        "print(\"\\n🔹 Designed with Passion & Creativity by Farhana Khan 🌸🌺\")\n",
        "\n"
      ]
    }
  ]
}